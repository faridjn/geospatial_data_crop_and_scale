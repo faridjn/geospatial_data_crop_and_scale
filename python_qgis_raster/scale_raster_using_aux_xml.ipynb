{
 "cells": [
  {
   "cell_type": "code",
   "execution_count": 13,
   "id": "ea590edb",
   "metadata": {},
   "outputs": [],
   "source": [
    "import os\n",
    "import shutil\n",
    "import xml.etree.ElementTree as ET\n"
   ]
  },
  {
   "cell_type": "markdown",
   "id": "b4086fe1",
   "metadata": {},
   "source": [
    "## 1. Configuration: Directories & Files"
   ]
  },
  {
   "cell_type": "code",
   "execution_count": 14,
   "id": "6dbe4de1",
   "metadata": {},
   "outputs": [],
   "source": [
    "# SETTINGS: Do you want to create a new GRID image\n",
    "CREATE_NEW_GRID = True"
   ]
  },
  {
   "cell_type": "code",
   "execution_count": 15,
   "id": "dfce98ec",
   "metadata": {},
   "outputs": [],
   "source": [
    "# Grid-to-Ground scale factor\n",
    "SCALE_FACTOR = 1.0000\n",
    "SCALE_FACTOR = 1.0003386704  # Modify for your specific case\n",
    "\n",
    "# Directory containing orthomosaic \n",
    "ORTHO_DIR = r\"C:\\Users\\USFJ139860\\Downloads\\ORTHO_EPSG6529_20250213_Mpp0.075_VertJPEG\"\n",
    "ortho_file_read = os.path.join(ORTHO_DIR, \"ORTHO.jpg\")\n",
    "aux_xml_file = ortho_file_read + \".aux.xml\""
   ]
  },
  {
   "cell_type": "code",
   "execution_count": 16,
   "id": "e4a54237",
   "metadata": {},
   "outputs": [
    {
     "name": "stdout",
     "output_type": "stream",
     "text": [
      "Created:C:\\Users\\USFJ139860\\Downloads\\ORTHO_EPSG6529_20250213_Mpp0.075_VertJPEG\\ORTHO-GRID.jpg\n",
      "Created: C:\\Users\\USFJ139860\\Downloads\\ORTHO_EPSG6529_20250213_Mpp0.075_VertJPEG\\ORTHO-GROUND.jpg\n"
     ]
    }
   ],
   "source": [
    "# Rename the image file as GRID\n",
    "if CREATE_NEW_GRID:\n",
    "    image_grid = os.path.splitext(ortho_file_read)[0] + \"-GRID\"+os.path.splitext(ortho_file_read)[1]\n",
    "    shutil.copy(ortho_file_read, image_grid)\n",
    "    print(f\"Created:{image_grid}\")\n",
    "else:  # Use the original image file as GRID\n",
    "    image_grid = ortho_file_read\n",
    "\n",
    "# Create a copy of image file for GROUND\n",
    "image_ground = os.path.splitext(ortho_file_read)[0] + \"-GROUND\"+os.path.splitext(ortho_file_read)[1]\n",
    "shutil.copy(ortho_file_read, image_ground)\n",
    "print(f\"Created: {image_ground}\")"
   ]
  },
  {
   "cell_type": "markdown",
   "id": "0b9a9bed",
   "metadata": {},
   "source": [
    "### 2. Read GeoTransform Values from AUX.XML"
   ]
  },
  {
   "cell_type": "code",
   "execution_count": 17,
   "id": "a5b98bf2",
   "metadata": {},
   "outputs": [],
   "source": [
    "def read_geotransform(aux_file):\n",
    "    if not os.path.exists(aux_file):\n",
    "        raise FileNotFoundError(f\"Error: AUX.XML file not found at {aux_file}\")\n",
    "    \n",
    "    tree = ET.parse(aux_file)\n",
    "    root = tree.getroot()\n",
    "    geotransform = root.find(\".//GeoTransform\")\n",
    "    \n",
    "    if geotransform is None or not geotransform.text:\n",
    "        raise ValueError(\"Error: <GeoTransform> not found in AUX.XML file\")\n",
    "    \n",
    "    values = list(map(float, geotransform.text.split(',')))\n",
    "    if len(values) != 6:\n",
    "        raise ValueError(\"Error: Invalid number of values in <GeoTransform>\")\n",
    "    \n",
    "    return values\n"
   ]
  },
  {
   "cell_type": "markdown",
   "id": "1528a40d",
   "metadata": {},
   "source": [
    "# 3. Extract geotransform values\n"
   ]
  },
  {
   "cell_type": "code",
   "execution_count": 18,
   "id": "7dd56bc4",
   "metadata": {},
   "outputs": [],
   "source": [
    "geo_values = read_geotransform(aux_xml_file)\n",
    "x0, gsd_x, theta_x, y0, theta_y, gsd_y = geo_values"
   ]
  },
  {
   "cell_type": "markdown",
   "id": "d7c65ccd",
   "metadata": {},
   "source": [
    "# 4. Generate JGW Files"
   ]
  },
  {
   "cell_type": "code",
   "execution_count": 19,
   "id": "3bfa692d",
   "metadata": {},
   "outputs": [],
   "source": [
    "grid_jgw = os.path.splitext(image_grid)[0] +\".jgw\"\n",
    "ground_jgw = os.path.splitext(image_ground)[0] +\".jgw\" \n",
    "scale_factor_jgw = os.path.splitext(ortho_file_read)[0] +\"-sf-grid-to-ground.txt\" "
   ]
  },
  {
   "cell_type": "code",
   "execution_count": 20,
   "id": "a5a06893",
   "metadata": {},
   "outputs": [
    {
     "name": "stdout",
     "output_type": "stream",
     "text": [
      "File created: C:\\Users\\USFJ139860\\Downloads\\ORTHO_EPSG6529_20250213_Mpp0.075_VertJPEG\\ORTHO-GRID.jgw\n",
      "File created: C:\\Users\\USFJ139860\\Downloads\\ORTHO_EPSG6529_20250213_Mpp0.075_VertJPEG\\ORTHO-sf-grid-to-ground.txt\n",
      "File created: C:\\Users\\USFJ139860\\Downloads\\ORTHO_EPSG6529_20250213_Mpp0.075_VertJPEG\\ORTHO-GROUND.jgw\n"
     ]
    }
   ],
   "source": [
    "with open(grid_jgw, 'w') as f:\n",
    "    f.write(f\"{gsd_x}\\n{theta_y}\\n{theta_x}\\n{gsd_y}\\n{x0}\\n{y0}\\n\")\n",
    "print(f\"File created: {grid_jgw}\")\n",
    "\n",
    "\n",
    "with open(scale_factor_jgw, 'w') as f:\n",
    "    f.write(f\"Grid-to-Ground Scale Factor:\\n{SCALE_FACTOR}\\n\")\n",
    "print(f\"File created: {scale_factor_jgw}\")\n",
    "\n",
    "\n",
    "\n",
    "# Apply scale factor\n",
    "gsd_x *= SCALE_FACTOR\n",
    "gsd_y *= SCALE_FACTOR\n",
    "x0 *= SCALE_FACTOR\n",
    "y0 *= SCALE_FACTOR\n",
    "\n",
    "\n",
    "with open(ground_jgw, 'w') as f:\n",
    "    f.write(f\"{gsd_x}\\n{theta_y}\\n{theta_x}\\n{gsd_y}\\n{x0}\\n{y0}\\n\")\n",
    "print(f\"File created: {ground_jgw}\")"
   ]
  }
 ],
 "metadata": {
  "kernelspec": {
   "display_name": "Python 3",
   "language": "python",
   "name": "python3"
  },
  "language_info": {
   "codemirror_mode": {
    "name": "ipython",
    "version": 3
   },
   "file_extension": ".py",
   "mimetype": "text/x-python",
   "name": "python",
   "nbconvert_exporter": "python",
   "pygments_lexer": "ipython3",
   "version": "3.13.1"
  }
 },
 "nbformat": 4,
 "nbformat_minor": 5
}
